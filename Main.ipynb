{
 "cells": [
  {
   "cell_type": "markdown",
   "metadata": {},
   "source": [
    "# Libs"
   ]
  },
  {
   "cell_type": "code",
   "execution_count": 2,
   "metadata": {},
   "outputs": [
    {
     "name": "stdout",
     "output_type": "stream",
     "text": [
      "Populating the interactive namespace from numpy and matplotlib\n"
     ]
    }
   ],
   "source": [
    "#general \r\n",
    "import cv2\r\n",
    "import numpy as np\r\n",
    "%pylab inline\r\n",
    "\r\n",
    "#gym\r\n",
    "from gym import Env\r\n",
    "from gym.spaces import Discrete, Box\r\n",
    "\r\n",
    "#communication\r\n",
    "import socket\r\n",
    "import pickle\r\n",
    "import struct\r\n",
    "\r\n",
    "import time\r\n",
    "\r\n"
   ]
  },
  {
   "cell_type": "markdown",
   "metadata": {},
   "source": [
    "# Settings\r\n"
   ]
  },
  {
   "cell_type": "code",
   "execution_count": 35,
   "metadata": {},
   "outputs": [],
   "source": [
    "ip = '192.168.0.202'\r\n"
   ]
  },
  {
   "cell_type": "markdown",
   "metadata": {},
   "source": [
    "# Socket connection functions"
   ]
  },
  {
   "cell_type": "code",
   "execution_count": 36,
   "metadata": {},
   "outputs": [],
   "source": [
    "\r\n",
    "#S is now a socket\r\n",
    "\r\n",
    "\r\n",
    "\r\n",
    "def send(s, data):\r\n",
    "    data= pickle.dumps(data, protocol=2) #RPI runs python 2, PC python 3!!\r\n",
    "    s.sendall(struct.pack('>i',len(data)))\r\n",
    "    s.sendall(data)\r\n",
    "\r\n",
    "\r\n",
    "def recv(s):\r\n",
    "    data = s.recv(4, socket.MSG_WAITALL)\r\n",
    "    data_len = struct.unpack('>i', data)[0]\r\n",
    "    data = s.recv(data_len, socket.MSG_WAITALL)\r\n",
    "    return pickle.loads(data)\r\n",
    "    "
   ]
  },
  {
   "cell_type": "markdown",
   "metadata": {},
   "source": [
    "# OpenCV"
   ]
  },
  {
   "cell_type": "code",
   "execution_count": 37,
   "metadata": {},
   "outputs": [],
   "source": [
    "# This is the first webcam connected to the computer\r\n",
    "webcam = cv2.VideoCapture(0)"
   ]
  },
  {
   "cell_type": "code",
   "execution_count": 38,
   "metadata": {},
   "outputs": [],
   "source": [
    "def getPos():\r\n",
    "    retval, image = webcam.read()\r\n",
    "    image_rgb = cv2.cvtColor(image, cv2.COLOR_BGR2RGB)\r\n",
    "    blur = cv2.medianBlur(image_rgb,15)\r\n",
    "    hsv = cv2.cvtColor(blur, cv2.COLOR_BGR2HSV)\r\n",
    "    #color definition\r\n",
    "    red_lower = np.array([80,0,245])\r\n",
    "    red_upper = np.array([100,150,255])\r\n",
    "    mask = cv2.inRange(hsv, red_lower, red_upper)\r\n",
    "    mask.max()\r\n",
    "\r\n",
    "    maxY = 480\r\n",
    "    maxX = 600\r\n",
    "    x, y, w, h = cv2.boundingRect(mask)\r\n",
    "\r\n",
    "    centerX =  (x+(w/2)) -(maxX/2)\r\n",
    "    centerY = (y+(h/2)) - (maxY/2)\r\n",
    "    return centerX, centerY"
   ]
  },
  {
   "cell_type": "markdown",
   "metadata": {},
   "source": [
    "# Built ENV"
   ]
  },
  {
   "cell_type": "code",
   "execution_count": 236,
   "metadata": {},
   "outputs": [],
   "source": [
    "class moveLedEnv(Env):\r\n",
    "    def __init__(self):\r\n",
    "        \r\n",
    "        # Actions we can take: up/left/right/down/stay\r\n",
    "        self.action_space = Discrete(5)\r\n",
    "\r\n",
    "        # Observations: gyroscope+accelerometer\r\n",
    "        self.observation_space = Box(low=np.array([0,0]), high=np.array([8,8]), dtype=np.float32) #8 because sensehat 6 (gyr+acc) + openCV 2 (x+y)\r\n",
    "\r\n",
    "        # Set start observation\r\n",
    "        self.state = [0,0]\r\n",
    "\r\n",
    "        self.reward = 0\r\n",
    "\r\n",
    "        self.done = False\r\n",
    "\r\n",
    "        self.distanceTolerance = 0.4\r\n",
    "\r\n",
    "\r\n",
    "        \r\n",
    "    def step(self, action):\r\n",
    "        #runs every time we take a step in our environment\r\n",
    "\r\n",
    "        self.done=False\r\n",
    "\r\n",
    "        # Apply action\r\n",
    "        # 0 stay\r\n",
    "        # 1 left \r\n",
    "        # 2 right \r\n",
    "        # 3 up\r\n",
    "        # 4 down\r\n",
    "\r\n",
    "        def stay():\r\n",
    "            self.state=self.state\r\n",
    "\r\n",
    "        def left():\r\n",
    "            if self.state[0]>0:\r\n",
    "                self.state[0] -=1\r\n",
    "\r\n",
    "        def right():\r\n",
    "            if self.state[0]<7:\r\n",
    "                self.state[0]+=1\r\n",
    "\r\n",
    "        def up():\r\n",
    "            if self.state[1]<7:\r\n",
    "                self.state[1]+=1\r\n",
    "\r\n",
    "        def down():\r\n",
    "            if self.state[1]>0:\r\n",
    "                self.state[1]-=1\r\n",
    "\r\n",
    "        \r\n",
    "        switcher={\r\n",
    "            0: stay,\r\n",
    "            1: left,\r\n",
    "            2: right,\r\n",
    "            3: up,\r\n",
    "            4: down\r\n",
    "        }\r\n",
    "        \r\n",
    "        switcher[action]()\r\n",
    "\r\n",
    "        time.sleep(500) #wait a little to not being to fast\r\n",
    "        x,y = getPos()\r\n",
    "        time.sleep(500) #wait a little to not being to fast\r\n",
    "\r\n",
    "        # Calculate reward\r\n",
    "        self.reward = -(abs(x) + abs(y))/100 #x and y are distances from the center, the further, the higher -> the closer the less negative the reward\r\n",
    "        \r\n",
    "\r\n",
    "        \r\n",
    "\r\n",
    "        info = {}\r\n",
    "\r\n",
    "        s= socket.socket(socket.AF_INET, socket.SOCK_STREAM)\r\n",
    "        s.setsockopt(socket.IPPROTO_TCP, socket.TCP_NODELAY,1)\r\n",
    "        s.connect((ip,9395))\r\n",
    "        \r\n",
    "        pos = self.state\r\n",
    "        send(s,pos)\r\n",
    "\r\n",
    "        if self.reward> -self.distanceTolerance:\r\n",
    "            self.done = True\r\n",
    "\r\n",
    "        # Return step information\r\n",
    "        return self.state, self.reward, self.done, info\r\n",
    "\r\n",
    "\r\n",
    "\r\n",
    "    def render(self):\r\n",
    "        # Implement viz - not done\r\n",
    "        pass\r\n",
    "    \r\n",
    "    def reset(self):\r\n",
    "        s= socket.socket(socket.AF_INET, socket.SOCK_STREAM)\r\n",
    "        s.setsockopt(socket.IPPROTO_TCP, socket.TCP_NODELAY,1)\r\n",
    "        s.connect((ip,9395))\r\n",
    "        # Reset led\r\n",
    "        self.reward=0\r\n",
    "        self.state = [0,0]\r\n",
    "        self.done = False\r\n",
    "        send(s,self.state)\r\n",
    "        return self.state"
   ]
  },
  {
   "cell_type": "markdown",
   "metadata": {},
   "source": [
    "## Testing"
   ]
  },
  {
   "cell_type": "code",
   "execution_count": 237,
   "metadata": {},
   "outputs": [],
   "source": [
    "env = moveLedEnv()\r\n"
   ]
  },
  {
   "cell_type": "code",
   "execution_count": 238,
   "metadata": {},
   "outputs": [
    {
     "data": {
      "text/plain": [
       "([0, 0], -0.245, True, {})"
      ]
     },
     "execution_count": 238,
     "metadata": {},
     "output_type": "execute_result"
    }
   ],
   "source": [
    "# 0 stay\r\n",
    "# 1 left \r\n",
    "# 2 right \r\n",
    "# 3 up\r\n",
    "# 4 down\r\n",
    "env.step(4)"
   ]
  },
  {
   "cell_type": "code",
   "execution_count": 239,
   "metadata": {},
   "outputs": [
    {
     "data": {
      "text/plain": [
       "[0, 0]"
      ]
     },
     "execution_count": 239,
     "metadata": {},
     "output_type": "execute_result"
    }
   ],
   "source": [
    "env.reset()"
   ]
  },
  {
   "cell_type": "code",
   "execution_count": 240,
   "metadata": {},
   "outputs": [
    {
     "data": {
      "text/plain": [
       "-2.38"
      ]
     },
     "execution_count": 240,
     "metadata": {},
     "output_type": "execute_result"
    }
   ],
   "source": [
    "action = 3\r\n",
    "n_state, reward, done, info = env.step(action)\r\n",
    "reward"
   ]
  },
  {
   "cell_type": "code",
   "execution_count": 241,
   "metadata": {},
   "outputs": [
    {
     "data": {
      "text/plain": [
       "(-98.5, -102.0)"
      ]
     },
     "execution_count": 241,
     "metadata": {},
     "output_type": "execute_result"
    }
   ],
   "source": [
    "getPos()"
   ]
  },
  {
   "cell_type": "code",
   "execution_count": 242,
   "metadata": {},
   "outputs": [
    {
     "name": "stdout",
     "output_type": "stream",
     "text": [
      "Episode:1 Score:-0.31\n",
      "Episode:2 Score:-0.31\n",
      "Episode:3 Score:-0.315\n",
      "Episode:4 Score:-0.31\n",
      "Episode:5 Score:-0.315\n",
      "Episode:6 Score:-0.245\n",
      "Episode:7 Score:-0.31\n",
      "Episode:8 Score:-0.315\n"
     ]
    },
    {
     "ename": "KeyboardInterrupt",
     "evalue": "",
     "output_type": "error",
     "traceback": [
      "\u001b[1;31m---------------------------------------------------------------------------\u001b[0m",
      "\u001b[1;31mKeyboardInterrupt\u001b[0m                         Traceback (most recent call last)",
      "\u001b[1;32m<ipython-input-242-d5c9572fd607>\u001b[0m in \u001b[0;36m<module>\u001b[1;34m\u001b[0m\n\u001b[0;32m      7\u001b[0m     \u001b[1;32mwhile\u001b[0m \u001b[1;32mnot\u001b[0m \u001b[0mdone\u001b[0m\u001b[1;33m:\u001b[0m\u001b[1;33m\u001b[0m\u001b[1;33m\u001b[0m\u001b[0m\n\u001b[0;32m      8\u001b[0m         \u001b[0maction\u001b[0m \u001b[1;33m=\u001b[0m \u001b[0menv\u001b[0m\u001b[1;33m.\u001b[0m\u001b[0maction_space\u001b[0m\u001b[1;33m.\u001b[0m\u001b[0msample\u001b[0m\u001b[1;33m(\u001b[0m\u001b[1;33m)\u001b[0m\u001b[1;33m\u001b[0m\u001b[1;33m\u001b[0m\u001b[0m\n\u001b[1;32m----> 9\u001b[1;33m         \u001b[0mn_state\u001b[0m\u001b[1;33m,\u001b[0m \u001b[0mreward\u001b[0m\u001b[1;33m,\u001b[0m \u001b[0mdone\u001b[0m\u001b[1;33m,\u001b[0m \u001b[0minfo\u001b[0m \u001b[1;33m=\u001b[0m \u001b[0menv\u001b[0m\u001b[1;33m.\u001b[0m\u001b[0mstep\u001b[0m\u001b[1;33m(\u001b[0m\u001b[0maction\u001b[0m\u001b[1;33m)\u001b[0m\u001b[1;33m\u001b[0m\u001b[1;33m\u001b[0m\u001b[0m\n\u001b[0m\u001b[0;32m     10\u001b[0m         \u001b[0mscore\u001b[0m\u001b[1;33m=\u001b[0m\u001b[0mreward\u001b[0m\u001b[1;33m\u001b[0m\u001b[1;33m\u001b[0m\u001b[0m\n\u001b[0;32m     11\u001b[0m     \u001b[0mprint\u001b[0m\u001b[1;33m(\u001b[0m\u001b[1;34m'Episode:{} Score:{}'\u001b[0m\u001b[1;33m.\u001b[0m\u001b[0mformat\u001b[0m\u001b[1;33m(\u001b[0m\u001b[0mepisode\u001b[0m\u001b[1;33m,\u001b[0m \u001b[0mscore\u001b[0m\u001b[1;33m)\u001b[0m\u001b[1;33m)\u001b[0m\u001b[1;33m\u001b[0m\u001b[1;33m\u001b[0m\u001b[0m\n",
      "\u001b[1;32m<ipython-input-236-42bd91f2ed5d>\u001b[0m in \u001b[0;36mstep\u001b[1;34m(self, action)\u001b[0m\n\u001b[0;32m     73\u001b[0m         \u001b[0ms\u001b[0m\u001b[1;33m=\u001b[0m \u001b[0msocket\u001b[0m\u001b[1;33m.\u001b[0m\u001b[0msocket\u001b[0m\u001b[1;33m(\u001b[0m\u001b[0msocket\u001b[0m\u001b[1;33m.\u001b[0m\u001b[0mAF_INET\u001b[0m\u001b[1;33m,\u001b[0m \u001b[0msocket\u001b[0m\u001b[1;33m.\u001b[0m\u001b[0mSOCK_STREAM\u001b[0m\u001b[1;33m)\u001b[0m\u001b[1;33m\u001b[0m\u001b[1;33m\u001b[0m\u001b[0m\n\u001b[0;32m     74\u001b[0m         \u001b[0ms\u001b[0m\u001b[1;33m.\u001b[0m\u001b[0msetsockopt\u001b[0m\u001b[1;33m(\u001b[0m\u001b[0msocket\u001b[0m\u001b[1;33m.\u001b[0m\u001b[0mIPPROTO_TCP\u001b[0m\u001b[1;33m,\u001b[0m \u001b[0msocket\u001b[0m\u001b[1;33m.\u001b[0m\u001b[0mTCP_NODELAY\u001b[0m\u001b[1;33m,\u001b[0m\u001b[1;36m1\u001b[0m\u001b[1;33m)\u001b[0m\u001b[1;33m\u001b[0m\u001b[1;33m\u001b[0m\u001b[0m\n\u001b[1;32m---> 75\u001b[1;33m         \u001b[0ms\u001b[0m\u001b[1;33m.\u001b[0m\u001b[0mconnect\u001b[0m\u001b[1;33m(\u001b[0m\u001b[1;33m(\u001b[0m\u001b[0mip\u001b[0m\u001b[1;33m,\u001b[0m\u001b[1;36m9395\u001b[0m\u001b[1;33m)\u001b[0m\u001b[1;33m)\u001b[0m\u001b[1;33m\u001b[0m\u001b[1;33m\u001b[0m\u001b[0m\n\u001b[0m\u001b[0;32m     76\u001b[0m \u001b[1;33m\u001b[0m\u001b[0m\n\u001b[0;32m     77\u001b[0m         \u001b[0mpos\u001b[0m \u001b[1;33m=\u001b[0m \u001b[0mself\u001b[0m\u001b[1;33m.\u001b[0m\u001b[0mstate\u001b[0m\u001b[1;33m\u001b[0m\u001b[1;33m\u001b[0m\u001b[0m\n",
      "\u001b[1;31mKeyboardInterrupt\u001b[0m: "
     ]
    }
   ],
   "source": [
    "\r\n",
    "episodes = 50\r\n",
    "for episode in range(1, episodes+1):\r\n",
    "    state = env.reset()\r\n",
    "    done = False\r\n",
    "    score = 0 \r\n",
    "    \r\n",
    "    while not done:\r\n",
    "        action = env.action_space.sample()\r\n",
    "        n_state, reward, done, info = env.step(action)\r\n",
    "        score=reward\r\n",
    "    print('Episode:{} Score:{}'.format(episode, score))"
   ]
  },
  {
   "cell_type": "markdown",
   "metadata": {},
   "source": [
    "# MAIN"
   ]
  },
  {
   "cell_type": "code",
   "execution_count": 243,
   "metadata": {},
   "outputs": [],
   "source": [
    "from stable_baselines3 import PPO, DQN\r\n"
   ]
  },
  {
   "cell_type": "code",
   "execution_count": 244,
   "metadata": {},
   "outputs": [
    {
     "name": "stdout",
     "output_type": "stream",
     "text": [
      "Using cpu device\n",
      "Wrapping the env with a `Monitor` wrapper\n",
      "Wrapping the env in a DummyVecEnv.\n"
     ]
    }
   ],
   "source": [
    "model = DQN(\"MlpPolicy\", env, verbose=1)\r\n"
   ]
  },
  {
   "cell_type": "code",
   "execution_count": 252,
   "metadata": {},
   "outputs": [
    {
     "name": "stdout",
     "output_type": "stream",
     "text": [
      "----------------------------------\n",
      "| rollout/            |          |\n",
      "|    ep_len_mean      | 75       |\n",
      "|    ep_rew_mean      | -144     |\n",
      "|    exploration rate | 0.715    |\n",
      "| time/               |          |\n",
      "|    episodes         | 4        |\n",
      "|    fps              | 11       |\n",
      "|    time_elapsed     | 25       |\n",
      "|    total timesteps  | 300      |\n",
      "----------------------------------\n",
      "----------------------------------\n",
      "| rollout/            |          |\n",
      "|    ep_len_mean      | 54       |\n",
      "|    ep_rew_mean      | -99      |\n",
      "|    exploration rate | 0.59     |\n",
      "| time/               |          |\n",
      "|    episodes         | 8        |\n",
      "|    fps              | 11       |\n",
      "|    time_elapsed     | 37       |\n",
      "|    total timesteps  | 432      |\n",
      "----------------------------------\n",
      "----------------------------------\n",
      "| rollout/            |          |\n",
      "|    ep_len_mean      | 57.2     |\n",
      "|    ep_rew_mean      | -107     |\n",
      "|    exploration rate | 0.348    |\n",
      "| time/               |          |\n",
      "|    episodes         | 12       |\n",
      "|    fps              | 11       |\n",
      "|    time_elapsed     | 60       |\n",
      "|    total timesteps  | 686      |\n",
      "----------------------------------\n",
      "----------------------------------\n",
      "| rollout/            |          |\n",
      "|    ep_len_mean      | 52.4     |\n",
      "|    ep_rew_mean      | -100     |\n",
      "|    exploration rate | 0.203    |\n",
      "| time/               |          |\n",
      "|    episodes         | 16       |\n",
      "|    fps              | 11       |\n",
      "|    time_elapsed     | 73       |\n",
      "|    total timesteps  | 839      |\n",
      "----------------------------------\n",
      "----------------------------------\n",
      "| rollout/            |          |\n",
      "|    ep_len_mean      | 46.6     |\n",
      "|    ep_rew_mean      | -87.2    |\n",
      "|    exploration rate | 0.114    |\n",
      "| time/               |          |\n",
      "|    episodes         | 20       |\n",
      "|    fps              | 11       |\n",
      "|    time_elapsed     | 82       |\n",
      "|    total timesteps  | 933      |\n",
      "----------------------------------\n",
      "----------------------------------\n",
      "| rollout/            |          |\n",
      "|    ep_len_mean      | 47.7     |\n",
      "|    ep_rew_mean      | -88.7    |\n",
      "|    exploration rate | 0.05     |\n",
      "| time/               |          |\n",
      "|    episodes         | 24       |\n",
      "|    fps              | 11       |\n",
      "|    time_elapsed     | 100      |\n",
      "|    total timesteps  | 1144     |\n",
      "----------------------------------\n",
      "----------------------------------\n",
      "| rollout/            |          |\n",
      "|    ep_len_mean      | 55.8     |\n",
      "|    ep_rew_mean      | -103     |\n",
      "|    exploration rate | 0.05     |\n",
      "| time/               |          |\n",
      "|    episodes         | 28       |\n",
      "|    fps              | 11       |\n",
      "|    time_elapsed     | 137      |\n",
      "|    total timesteps  | 1561     |\n",
      "----------------------------------\n",
      "----------------------------------\n",
      "| rollout/            |          |\n",
      "|    ep_len_mean      | 60.1     |\n",
      "|    ep_rew_mean      | -112     |\n",
      "|    exploration rate | 0.05     |\n",
      "| time/               |          |\n",
      "|    episodes         | 32       |\n",
      "|    fps              | 11       |\n",
      "|    time_elapsed     | 168      |\n",
      "|    total timesteps  | 1924     |\n",
      "----------------------------------\n",
      "----------------------------------\n",
      "| rollout/            |          |\n",
      "|    ep_len_mean      | 69.1     |\n",
      "|    ep_rew_mean      | -133     |\n",
      "|    exploration rate | 0.05     |\n",
      "| time/               |          |\n",
      "|    episodes         | 36       |\n",
      "|    fps              | 11       |\n",
      "|    time_elapsed     | 218      |\n",
      "|    total timesteps  | 2489     |\n",
      "----------------------------------\n",
      "----------------------------------\n",
      "| rollout/            |          |\n",
      "|    ep_len_mean      | 67.1     |\n",
      "|    ep_rew_mean      | -127     |\n",
      "|    exploration rate | 0.05     |\n",
      "| time/               |          |\n",
      "|    episodes         | 40       |\n",
      "|    fps              | 11       |\n",
      "|    time_elapsed     | 235      |\n",
      "|    total timesteps  | 2684     |\n",
      "----------------------------------\n",
      "----------------------------------\n",
      "| rollout/            |          |\n",
      "|    ep_len_mean      | 68.5     |\n",
      "|    ep_rew_mean      | -132     |\n",
      "|    exploration rate | 0.05     |\n",
      "| time/               |          |\n",
      "|    episodes         | 44       |\n",
      "|    fps              | 11       |\n",
      "|    time_elapsed     | 264      |\n",
      "|    total timesteps  | 3015     |\n",
      "----------------------------------\n",
      "----------------------------------\n",
      "| rollout/            |          |\n",
      "|    ep_len_mean      | 62.9     |\n",
      "|    ep_rew_mean      | -121     |\n",
      "|    exploration rate | 0.05     |\n",
      "| time/               |          |\n",
      "|    episodes         | 48       |\n",
      "|    fps              | 11       |\n",
      "|    time_elapsed     | 264      |\n",
      "|    total timesteps  | 3019     |\n",
      "----------------------------------\n",
      "----------------------------------\n",
      "| rollout/            |          |\n",
      "|    ep_len_mean      | 59       |\n",
      "|    ep_rew_mean      | -113     |\n",
      "|    exploration rate | 0.05     |\n",
      "| time/               |          |\n",
      "|    episodes         | 52       |\n",
      "|    fps              | 11       |\n",
      "|    time_elapsed     | 269      |\n",
      "|    total timesteps  | 3066     |\n",
      "----------------------------------\n",
      "----------------------------------\n",
      "| rollout/            |          |\n",
      "|    ep_len_mean      | 62.9     |\n",
      "|    ep_rew_mean      | -120     |\n",
      "|    exploration rate | 0.05     |\n",
      "| time/               |          |\n",
      "|    episodes         | 56       |\n",
      "|    fps              | 11       |\n",
      "|    time_elapsed     | 309      |\n",
      "|    total timesteps  | 3524     |\n",
      "----------------------------------\n",
      "----------------------------------\n",
      "| rollout/            |          |\n",
      "|    ep_len_mean      | 59.1     |\n",
      "|    ep_rew_mean      | -113     |\n",
      "|    exploration rate | 0.05     |\n",
      "| time/               |          |\n",
      "|    episodes         | 60       |\n",
      "|    fps              | 11       |\n",
      "|    time_elapsed     | 312      |\n",
      "|    total timesteps  | 3548     |\n",
      "----------------------------------\n",
      "----------------------------------\n",
      "| rollout/            |          |\n",
      "|    ep_len_mean      | 55.9     |\n",
      "|    ep_rew_mean      | -106     |\n",
      "|    exploration rate | 0.05     |\n",
      "| time/               |          |\n",
      "|    episodes         | 64       |\n",
      "|    fps              | 11       |\n",
      "|    time_elapsed     | 314      |\n",
      "|    total timesteps  | 3576     |\n",
      "----------------------------------\n",
      "----------------------------------\n",
      "| rollout/            |          |\n",
      "|    ep_len_mean      | 54.2     |\n",
      "|    ep_rew_mean      | -103     |\n",
      "|    exploration rate | 0.05     |\n",
      "| time/               |          |\n",
      "|    episodes         | 68       |\n",
      "|    fps              | 11       |\n",
      "|    time_elapsed     | 324      |\n",
      "|    total timesteps  | 3686     |\n",
      "----------------------------------\n",
      "----------------------------------\n",
      "| rollout/            |          |\n",
      "|    ep_len_mean      | 55.2     |\n",
      "|    ep_rew_mean      | -105     |\n",
      "|    exploration rate | 0.05     |\n",
      "| time/               |          |\n",
      "|    episodes         | 72       |\n",
      "|    fps              | 11       |\n",
      "|    time_elapsed     | 350      |\n",
      "|    total timesteps  | 3975     |\n",
      "----------------------------------\n",
      "----------------------------------\n",
      "| rollout/            |          |\n",
      "|    ep_len_mean      | 57.7     |\n",
      "|    ep_rew_mean      | -112     |\n",
      "|    exploration rate | 0.05     |\n",
      "| time/               |          |\n",
      "|    episodes         | 76       |\n",
      "|    fps              | 11       |\n",
      "|    time_elapsed     | 385      |\n",
      "|    total timesteps  | 4382     |\n",
      "----------------------------------\n",
      "----------------------------------\n",
      "| rollout/            |          |\n",
      "|    ep_len_mean      | 58.5     |\n",
      "|    ep_rew_mean      | -112     |\n",
      "|    exploration rate | 0.05     |\n",
      "| time/               |          |\n",
      "|    episodes         | 80       |\n",
      "|    fps              | 11       |\n",
      "|    time_elapsed     | 411      |\n",
      "|    total timesteps  | 4676     |\n",
      "----------------------------------\n",
      "----------------------------------\n",
      "| rollout/            |          |\n",
      "|    ep_len_mean      | 59.4     |\n",
      "|    ep_rew_mean      | -114     |\n",
      "|    exploration rate | 0.05     |\n",
      "| time/               |          |\n",
      "|    episodes         | 84       |\n",
      "|    fps              | 11       |\n",
      "|    time_elapsed     | 439      |\n",
      "|    total timesteps  | 4992     |\n",
      "----------------------------------\n",
      "----------------------------------\n",
      "| rollout/            |          |\n",
      "|    ep_len_mean      | 62.2     |\n",
      "|    ep_rew_mean      | -119     |\n",
      "|    exploration rate | 0.05     |\n",
      "| time/               |          |\n",
      "|    episodes         | 88       |\n",
      "|    fps              | 11       |\n",
      "|    time_elapsed     | 481      |\n",
      "|    total timesteps  | 5476     |\n",
      "----------------------------------\n",
      "----------------------------------\n",
      "| rollout/            |          |\n",
      "|    ep_len_mean      | 62       |\n",
      "|    ep_rew_mean      | -119     |\n",
      "|    exploration rate | 0.05     |\n",
      "| time/               |          |\n",
      "|    episodes         | 92       |\n",
      "|    fps              | 11       |\n",
      "|    time_elapsed     | 501      |\n",
      "|    total timesteps  | 5704     |\n",
      "----------------------------------\n",
      "----------------------------------\n",
      "| rollout/            |          |\n",
      "|    ep_len_mean      | 62       |\n",
      "|    ep_rew_mean      | -118     |\n",
      "|    exploration rate | 0.05     |\n",
      "| time/               |          |\n",
      "|    episodes         | 96       |\n",
      "|    fps              | 11       |\n",
      "|    time_elapsed     | 522      |\n",
      "|    total timesteps  | 5951     |\n",
      "----------------------------------\n",
      "----------------------------------\n",
      "| rollout/            |          |\n",
      "|    ep_len_mean      | 61.5     |\n",
      "|    ep_rew_mean      | -117     |\n",
      "|    exploration rate | 0.05     |\n",
      "| time/               |          |\n",
      "|    episodes         | 100      |\n",
      "|    fps              | 11       |\n",
      "|    time_elapsed     | 540      |\n",
      "|    total timesteps  | 6147     |\n",
      "----------------------------------\n",
      "----------------------------------\n",
      "| rollout/            |          |\n",
      "|    ep_len_mean      | 59       |\n",
      "|    ep_rew_mean      | -112     |\n",
      "|    exploration rate | 0.05     |\n",
      "| time/               |          |\n",
      "|    episodes         | 104      |\n",
      "|    fps              | 11       |\n",
      "|    time_elapsed     | 545      |\n",
      "|    total timesteps  | 6203     |\n",
      "----------------------------------\n",
      "----------------------------------\n",
      "| rollout/            |          |\n",
      "|    ep_len_mean      | 59.5     |\n",
      "|    ep_rew_mean      | -113     |\n",
      "|    exploration rate | 0.05     |\n",
      "| time/               |          |\n",
      "|    episodes         | 108      |\n",
      "|    fps              | 11       |\n",
      "|    time_elapsed     | 560      |\n",
      "|    total timesteps  | 6380     |\n",
      "----------------------------------\n",
      "----------------------------------\n",
      "| rollout/            |          |\n",
      "|    ep_len_mean      | 60       |\n",
      "|    ep_rew_mean      | -114     |\n",
      "|    exploration rate | 0.05     |\n",
      "| time/               |          |\n",
      "|    episodes         | 112      |\n",
      "|    fps              | 11       |\n",
      "|    time_elapsed     | 588      |\n",
      "|    total timesteps  | 6690     |\n",
      "----------------------------------\n",
      "----------------------------------\n",
      "| rollout/            |          |\n",
      "|    ep_len_mean      | 63.6     |\n",
      "|    ep_rew_mean      | -119     |\n",
      "|    exploration rate | 0.05     |\n",
      "| time/               |          |\n",
      "|    episodes         | 116      |\n",
      "|    fps              | 11       |\n",
      "|    time_elapsed     | 633      |\n",
      "|    total timesteps  | 7200     |\n",
      "----------------------------------\n",
      "----------------------------------\n",
      "| rollout/            |          |\n",
      "|    ep_len_mean      | 69.7     |\n",
      "|    ep_rew_mean      | -132     |\n",
      "|    exploration rate | 0.05     |\n",
      "| time/               |          |\n",
      "|    episodes         | 120      |\n",
      "|    fps              | 11       |\n",
      "|    time_elapsed     | 694      |\n",
      "|    total timesteps  | 7907     |\n",
      "----------------------------------\n",
      "----------------------------------\n",
      "| rollout/            |          |\n",
      "|    ep_len_mean      | 70.4     |\n",
      "|    ep_rew_mean      | -133     |\n",
      "|    exploration rate | 0.05     |\n",
      "| time/               |          |\n",
      "|    episodes         | 124      |\n",
      "|    fps              | 11       |\n",
      "|    time_elapsed     | 718      |\n",
      "|    total timesteps  | 8187     |\n",
      "----------------------------------\n",
      "----------------------------------\n",
      "| rollout/            |          |\n",
      "|    ep_len_mean      | 74.6     |\n",
      "|    ep_rew_mean      | -143     |\n",
      "|    exploration rate | 0.05     |\n",
      "| time/               |          |\n",
      "|    episodes         | 128      |\n",
      "|    fps              | 11       |\n",
      "|    time_elapsed     | 792      |\n",
      "|    total timesteps  | 9025     |\n",
      "----------------------------------\n",
      "----------------------------------\n",
      "| rollout/            |          |\n",
      "|    ep_len_mean      | 79.3     |\n",
      "|    ep_rew_mean      | -151     |\n",
      "|    exploration rate | 0.05     |\n",
      "| time/               |          |\n",
      "|    episodes         | 132      |\n",
      "|    fps              | 11       |\n",
      "|    time_elapsed     | 863      |\n",
      "|    total timesteps  | 9857     |\n",
      "----------------------------------\n"
     ]
    },
    {
     "data": {
      "text/plain": [
       "<stable_baselines3.dqn.dqn.DQN at 0x252de696eb0>"
      ]
     },
     "execution_count": 252,
     "metadata": {},
     "output_type": "execute_result"
    }
   ],
   "source": [
    "model.learn(total_timesteps=10000)\r\n"
   ]
  },
  {
   "cell_type": "code",
   "execution_count": 253,
   "metadata": {},
   "outputs": [],
   "source": [
    "model.save('myModel3')"
   ]
  },
  {
   "cell_type": "code",
   "execution_count": 262,
   "metadata": {},
   "outputs": [
    {
     "data": {
      "text/plain": [
       "[0, 0]"
      ]
     },
     "execution_count": 262,
     "metadata": {},
     "output_type": "execute_result"
    }
   ],
   "source": [
    "env.reset()"
   ]
  },
  {
   "cell_type": "code",
   "execution_count": 269,
   "metadata": {},
   "outputs": [
    {
     "data": {
      "text/plain": [
       "([1, 4], -1.605, False, {})"
      ]
     },
     "execution_count": 269,
     "metadata": {},
     "output_type": "execute_result"
    }
   ],
   "source": [
    "env.step(3)"
   ]
  },
  {
   "cell_type": "code",
   "execution_count": 272,
   "metadata": {},
   "outputs": [
    {
     "ename": "KeyboardInterrupt",
     "evalue": "",
     "output_type": "error",
     "traceback": [
      "\u001b[1;31m---------------------------------------------------------------------------\u001b[0m",
      "\u001b[1;31mKeyboardInterrupt\u001b[0m                         Traceback (most recent call last)",
      "\u001b[1;32m<ipython-input-272-404da8e9a933>\u001b[0m in \u001b[0;36m<module>\u001b[1;34m\u001b[0m\n\u001b[0;32m      2\u001b[0m \u001b[1;32mwhile\u001b[0m \u001b[1;32mTrue\u001b[0m\u001b[1;33m:\u001b[0m\u001b[1;33m\u001b[0m\u001b[1;33m\u001b[0m\u001b[0m\n\u001b[0;32m      3\u001b[0m     \u001b[0maction\u001b[0m\u001b[1;33m,\u001b[0m \u001b[0m_states\u001b[0m \u001b[1;33m=\u001b[0m \u001b[0mmodel\u001b[0m\u001b[1;33m.\u001b[0m\u001b[0mpredict\u001b[0m\u001b[1;33m(\u001b[0m\u001b[0mobs\u001b[0m\u001b[1;33m,\u001b[0m \u001b[0mdeterministic\u001b[0m\u001b[1;33m=\u001b[0m\u001b[1;32mTrue\u001b[0m\u001b[1;33m)\u001b[0m\u001b[1;33m\u001b[0m\u001b[1;33m\u001b[0m\u001b[0m\n\u001b[1;32m----> 4\u001b[1;33m     \u001b[0mobs\u001b[0m\u001b[1;33m,\u001b[0m \u001b[0mreward\u001b[0m\u001b[1;33m,\u001b[0m \u001b[0mdone\u001b[0m\u001b[1;33m,\u001b[0m \u001b[0minfo\u001b[0m \u001b[1;33m=\u001b[0m \u001b[0menv\u001b[0m\u001b[1;33m.\u001b[0m\u001b[0mstep\u001b[0m\u001b[1;33m(\u001b[0m\u001b[0maction\u001b[0m\u001b[1;33m)\u001b[0m\u001b[1;33m\u001b[0m\u001b[1;33m\u001b[0m\u001b[0m\n\u001b[0m\u001b[0;32m      5\u001b[0m \u001b[1;33m\u001b[0m\u001b[0m\n\u001b[0;32m      6\u001b[0m     \u001b[1;32mif\u001b[0m \u001b[0mdone\u001b[0m\u001b[1;33m:\u001b[0m\u001b[1;33m\u001b[0m\u001b[1;33m\u001b[0m\u001b[0m\n",
      "\u001b[1;32m<ipython-input-236-42bd91f2ed5d>\u001b[0m in \u001b[0;36mstep\u001b[1;34m(self, action)\u001b[0m\n\u001b[0;32m     73\u001b[0m         \u001b[0ms\u001b[0m\u001b[1;33m=\u001b[0m \u001b[0msocket\u001b[0m\u001b[1;33m.\u001b[0m\u001b[0msocket\u001b[0m\u001b[1;33m(\u001b[0m\u001b[0msocket\u001b[0m\u001b[1;33m.\u001b[0m\u001b[0mAF_INET\u001b[0m\u001b[1;33m,\u001b[0m \u001b[0msocket\u001b[0m\u001b[1;33m.\u001b[0m\u001b[0mSOCK_STREAM\u001b[0m\u001b[1;33m)\u001b[0m\u001b[1;33m\u001b[0m\u001b[1;33m\u001b[0m\u001b[0m\n\u001b[0;32m     74\u001b[0m         \u001b[0ms\u001b[0m\u001b[1;33m.\u001b[0m\u001b[0msetsockopt\u001b[0m\u001b[1;33m(\u001b[0m\u001b[0msocket\u001b[0m\u001b[1;33m.\u001b[0m\u001b[0mIPPROTO_TCP\u001b[0m\u001b[1;33m,\u001b[0m \u001b[0msocket\u001b[0m\u001b[1;33m.\u001b[0m\u001b[0mTCP_NODELAY\u001b[0m\u001b[1;33m,\u001b[0m\u001b[1;36m1\u001b[0m\u001b[1;33m)\u001b[0m\u001b[1;33m\u001b[0m\u001b[1;33m\u001b[0m\u001b[0m\n\u001b[1;32m---> 75\u001b[1;33m         \u001b[0ms\u001b[0m\u001b[1;33m.\u001b[0m\u001b[0mconnect\u001b[0m\u001b[1;33m(\u001b[0m\u001b[1;33m(\u001b[0m\u001b[0mip\u001b[0m\u001b[1;33m,\u001b[0m\u001b[1;36m9395\u001b[0m\u001b[1;33m)\u001b[0m\u001b[1;33m)\u001b[0m\u001b[1;33m\u001b[0m\u001b[1;33m\u001b[0m\u001b[0m\n\u001b[0m\u001b[0;32m     76\u001b[0m \u001b[1;33m\u001b[0m\u001b[0m\n\u001b[0;32m     77\u001b[0m         \u001b[0mpos\u001b[0m \u001b[1;33m=\u001b[0m \u001b[0mself\u001b[0m\u001b[1;33m.\u001b[0m\u001b[0mstate\u001b[0m\u001b[1;33m\u001b[0m\u001b[1;33m\u001b[0m\u001b[0m\n",
      "\u001b[1;31mKeyboardInterrupt\u001b[0m: "
     ]
    }
   ],
   "source": [
    "obs = env.reset()\r\n",
    "while True:\r\n",
    "    action, _states = model.predict(obs, deterministic=True)\r\n",
    "    obs, reward, done, info = env.step(action)\r\n",
    "\r\n",
    "    if done:\r\n",
    "      obs = env.reset()"
   ]
  }
 ],
 "metadata": {
  "interpreter": {
   "hash": "0b300638861ccbdb3e9d6f1db3901620da27eab909336f45a2e413077ce135f3"
  },
  "kernelspec": {
   "display_name": "Python 3.9.2 64-bit",
   "name": "python3"
  },
  "language_info": {
   "codemirror_mode": {
    "name": "ipython",
    "version": 3
   },
   "file_extension": ".py",
   "mimetype": "text/x-python",
   "name": "python",
   "nbconvert_exporter": "python",
   "pygments_lexer": "ipython3",
   "version": "3.9.2"
  },
  "orig_nbformat": 4
 },
 "nbformat": 4,
 "nbformat_minor": 2
}